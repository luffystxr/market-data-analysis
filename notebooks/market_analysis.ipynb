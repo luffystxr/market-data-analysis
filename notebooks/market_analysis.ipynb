{
 "cells": [
  {
   "cell_type": "markdown",
   "metadata": {},
   "source": [
    "# 📈 Market Data Analysis & SMA Backtesting\n",
    "\n",
    "This notebook fetches cryptocurrency market data from Binance, performs exploratory data analysis (EDA), and implements a simple moving average crossover strategy for backtesting."
   ]
  },
  {
   "cell_type": "code",
   "execution_count": null,
   "metadata": {},
   "outputs": [],
   "source": [
    "# Step 0: Import dependencies\n",
    "import sys\n",
    "from pathlib import Path\n",
    "\n",
    "# Add src directory to path for imports\n",
    "sys.path.append(str(Path.cwd().parent / 'src'))\n",
    "\n",
    "from data_fetch import fetch_binance_data\n",
    "from eda import plot_price, plot_sma\n",
    "from backtest import apply_sma_strategy\n",
    "\n",
    "import pandas as pd"
   ]
  },
  {
   "cell_type": "code",
   "execution_count": null,
   "metadata": {},
   "outputs": [],
   "source": [
    "# Step 1: Fetch market data\n",
    "print(\"Fetching market data from Binance...\")\n",
    "df = fetch_binance_data(symbol=\"BTC/USDT\", timeframe=\"1h\", limit=500)\n",
    "print(\"Data fetched successfully!\")\n",
    "df.head()"
   ]
  },
  {
   "cell_type": "code",
   "execution_count": null,
   "metadata": {},
   "outputs": [],
   "source": [
    "# Step 2: Run EDA - visualize price trends\n",
    "print(\"Plotting price trend...\")\n",
    "plot_price(df)"
   ]
  },
  {
   "cell_type": "code",
   "execution_count": null,
   "metadata": {},
   "outputs": [],
   "source": [
    "# Step 3: Apply SMA crossover strategy\n",
    "print(\"Applying SMA strategy...\")\n",
    "df = apply_sma_strategy(df, short_window=20, long_window=50)"
   ]
  },
  {
   "cell_type": "code",
   "execution_count": null,
   "metadata": {},
   "outputs": [],
   "source": [
    "# Step 4: Visualize strategy performance\n",
    "print(\"Plotting SMA crossover signals...\")\n",
    "plot_sma(df)"
   ]
  },
  {
   "cell_type": "code",
   "execution_count": null,
   "metadata": {},
   "outputs": [],
   "source": [
    "# Step 5: Calculate strategy statistics\n",
    "total_return = (df['cumulative_returns'].iloc[-1] - 1) * 100\n",
    "print(f\"Total Strategy Return: {total_return:.2f}%\")\n",
    "\n",
    "# Display last few rows for reference\n",
    "df.tail()"
   ]
  }
 ],
 "metadata": {
  "kernelspec": {
   "display_name": "Python 3",
   "language": "python",
   "name": "python3"
  },
  "language_info": {
   "name": "python",
   "version": "3.x"
  }
 },
 "nbformat": 4,
 "nbformat_minor": 5
}
