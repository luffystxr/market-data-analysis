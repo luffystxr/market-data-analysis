# 📈 Market Data Analysis & SMA Backtesting
# =========================================
# This notebook fetches cryptocurrency market data from Binance,
# performs exploratory data analysis, and implements a simple
# moving average crossover backtesting strategy.

# Step 0: Import dependencies
import sys
from pathlib import Path

# Add src directory to path for imports
sys.path.append(str(Path.cwd().parent / 'src'))

from data_fetch import fetch_binance_data
from eda import plot_price, plot_sma
from backtest import apply_sma_strategy

import pandas as pd

# Step 1: Fetch market data
print("Fetching market data from Binance...")
df = fetch_binance_data(symbol="BTC/USDT", timeframe="1h", limit=500)
print("Data fetched successfully!")
df.head()

# Step 2: Run EDA - visualize price trends
print("Plotting price trend...")
plot_price(df)

# Step 3: Apply SMA crossover strategy
print("Applying SMA strategy...")
df = apply_sma_strategy(df, short_window=20, long_window=50)

# Step 4: Visualize strategy performance
print("Plotting SMA crossover signals...")
plot_sma(df)

# Step 5: Calculate strategy statistics
total_return = (df['cumulative_returns'].iloc[-1] - 1) * 100
print(f"Total Strategy Return: {total_return:.2f}%")

# Display last few rows for reference
df.tail()

